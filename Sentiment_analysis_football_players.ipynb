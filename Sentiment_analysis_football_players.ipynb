{
 "cells": [
  {
   "cell_type": "code",
   "execution_count": 8,
   "id": "b05fd9ea",
   "metadata": {},
   "outputs": [
    {
     "name": "stdout",
     "output_type": "stream",
     "text": [
      "        id                                         text  \\\n",
      "0  1000000  James Smith’s game awareness is next level.   \n",
      "1  1000001              Another fantastic week for him!   \n",
      "2  1000002        He’s definitely an underrated player.   \n",
      "3  1000003           He needs a break—looked exhausted.   \n",
      "4  1000004           He needs a break—looked exhausted.   \n",
      "5  1000005                He needs to step up his game.   \n",
      "6  1000006        James Smith was MVP material tonight!   \n",
      "7  1000007    James Smith with back-to-back touchdowns!   \n",
      "8  1000008    James Smith deserves player of the month.   \n",
      "9  1000009              He wasn’t in his element today.   \n",
      "\n",
      "                    created_at  \n",
      "0  2025-04-12T21:01:04.105762Z  \n",
      "1  2025-04-12T20:51:04.105762Z  \n",
      "2  2025-04-12T20:41:04.105762Z  \n",
      "3  2025-04-12T20:31:04.105762Z  \n",
      "4  2025-04-12T20:21:04.105762Z  \n",
      "5  2025-04-12T20:11:04.105762Z  \n",
      "6  2025-04-12T20:01:04.105762Z  \n",
      "7  2025-04-12T19:51:04.105762Z  \n",
      "8  2025-04-12T19:41:04.105762Z  \n",
      "9  2025-04-12T19:31:04.105762Z  \n"
     ]
    }
   ],
   "source": [
    "import json\n",
    "import pandas as pd\n",
    "\n",
    "with open(\"/Users/lakshmiande/Desktop/sentiment analysis/james_smith_tweets.json\", \"r\", encoding=\"utf-8\") as f:\n",
    "    data = json.load(f)\n",
    "\n",
    "df = pd.DataFrame(data[\"dataplayer\"])\n",
    "print(df.head(10))\n"
   ]
  },
  {
   "cell_type": "code",
   "execution_count": 9,
   "id": "109ea292",
   "metadata": {},
   "outputs": [
    {
     "data": {
      "image/png": "[encoded data removed]",
      "text/plain": [
       "<Figure size 432x288 with 1 Axes>"
      ]
     },
     "metadata": {
      "needs_background": "light"
     },
     "output_type": "display_data"
    }
   ],
   "source": [
    "import matplotlib.pyplot as plt\n",
    "\n",
    "df[\"text\"].str.len().plot.hist(bins=20)\n",
    "plt.show()\n"
   ]
  },
  {
   "cell_type": "code",
   "execution_count": 10,
   "id": "58693056",
   "metadata": {},
   "outputs": [
    {
     "name": "stdout",
     "output_type": "stream",
     "text": [
      "                                          text  \\\n",
      "0  James Smith’s game awareness is next level.   \n",
      "1              Another fantastic week for him!   \n",
      "2        He’s definitely an underrated player.   \n",
      "3           He needs a break—looked exhausted.   \n",
      "4           He needs a break—looked exhausted.   \n",
      "5                He needs to step up his game.   \n",
      "6        James Smith was MVP material tonight!   \n",
      "7    James Smith with back-to-back touchdowns!   \n",
      "8    James Smith deserves player of the month.   \n",
      "9              He wasn’t in his element today.   \n",
      "\n",
      "                                cleaned_text  \n",
      "0  james smiths game awareness is next level  \n",
      "1             another fantastic week for him  \n",
      "2        hes definitely an underrated player  \n",
      "3           he needs a breaklooked exhausted  \n",
      "4           he needs a breaklooked exhausted  \n",
      "5               he needs to step up his game  \n",
      "6       james smith was mvp material tonight  \n",
      "7     james smith with backtoback touchdowns  \n",
      "8   james smith deserves player of the month  \n",
      "9              he wasnt in his element today  \n"
     ]
    }
   ],
   "source": [
    "import re\n",
    "\n",
    "def clean_tweet(text):\n",
    "    text = text.lower()\n",
    "    text = re.sub(r\"http\\S+\", \"\", text)\n",
    "    text = re.sub(r\"@\\w+\", \"\", text)\n",
    "    text = re.sub(r\"#\\w+\", \"\", text)\n",
    "    text = re.sub(r\"[^\\w\\s]\", \"\", text)\n",
    "    text = re.sub(r\"\\s+\", \" \", text).strip()\n",
    "    return text\n",
    "\n",
    "df[\"cleaned_text\"] = df[\"text\"].apply(clean_tweet)\n",
    "print(df[[\"text\",\"cleaned_text\"]].head(10))\n"
   ]
  },
  {
   "cell_type": "code",
   "execution_count": 11,
   "id": "b0b2a865",
   "metadata": {},
   "outputs": [
    {
     "name": "stdout",
     "output_type": "stream",
     "text": [
      "        id                                         text  \\\n",
      "0  1000000  James Smith’s game awareness is next level.   \n",
      "1  1000001              Another fantastic week for him!   \n",
      "2  1000002        He’s definitely an underrated player.   \n",
      "3  1000003           He needs a break—looked exhausted.   \n",
      "4  1000004           He needs a break—looked exhausted.   \n",
      "5  1000005                He needs to step up his game.   \n",
      "6  1000006        James Smith was MVP material tonight!   \n",
      "7  1000007    James Smith with back-to-back touchdowns!   \n",
      "8  1000008    James Smith deserves player of the month.   \n",
      "9  1000009              He wasn’t in his element today.   \n",
      "\n",
      "                    created_at                               cleaned_text  \\\n",
      "0  2025-04-12T21:01:04.105762Z  james smiths game awareness is next level   \n",
      "1  2025-04-12T20:51:04.105762Z             another fantastic week for him   \n",
      "2  2025-04-12T20:41:04.105762Z        hes definitely an underrated player   \n",
      "3  2025-04-12T20:31:04.105762Z           he needs a breaklooked exhausted   \n",
      "4  2025-04-12T20:21:04.105762Z           he needs a breaklooked exhausted   \n",
      "5  2025-04-12T20:11:04.105762Z               he needs to step up his game   \n",
      "6  2025-04-12T20:01:04.105762Z       james smith was mvp material tonight   \n",
      "7  2025-04-12T19:51:04.105762Z     james smith with backtoback touchdowns   \n",
      "8  2025-04-12T19:41:04.105762Z   james smith deserves player of the month   \n",
      "9  2025-04-12T19:31:04.105762Z              he wasnt in his element today   \n",
      "\n",
      "  sentiment  compound_score  \n",
      "0   neutral          0.0000  \n",
      "1  positive          0.5574  \n",
      "2  positive          0.4019  \n",
      "3  negative         -0.3612  \n",
      "4  negative         -0.3612  \n",
      "5   neutral          0.0000  \n",
      "6   neutral          0.0000  \n",
      "7   neutral          0.0000  \n",
      "8   neutral          0.0000  \n",
      "9   neutral          0.0000  \n"
     ]
    }
   ],
   "source": [
    "from vaderSentiment.vaderSentiment import SentimentIntensityAnalyzer\n",
    "\n",
    "analyzer = SentimentIntensityAnalyzer()\n",
    "\n",
    "def get_sentiment(text):\n",
    "    score = analyzer.polarity_scores(text)[\"compound\"]\n",
    "    if score >= 0.05:\n",
    "        return \"positive\"\n",
    "    elif score <= -0.05:\n",
    "        return \"negative\"\n",
    "    else:\n",
    "        return \"neutral\"\n",
    "\n",
    "df[\"sentiment\"] = df[\"cleaned_text\"].apply(get_sentiment)\n",
    "df[\"compound_score\"] = df[\"cleaned_text\"].apply(lambda x: analyzer.polarity_scores(x)[\"compound\"])\n",
    "print(df.head(10))\n"
   ]
  },
  {
   "cell_type": "code",
   "execution_count": 12,
   "id": "f5c8e449",
   "metadata": {},
   "outputs": [
    {
     "data": {
      "image/png": "[encoded data removed]",
      "text/plain": [
       "<Figure size 432x288 with 1 Axes>"
      ]
     },
     "metadata": {
      "needs_background": "light"
     },
     "output_type": "display_data"
    }
   ],
   "source": [
    "df[\"sentiment\"].value_counts().plot(kind=\"bar\")\n",
    "plt.title(\"Sentiment Distribution\")\n",
    "plt.show()\n"
   ]
  },
  {
   "cell_type": "code",
   "execution_count": 13,
   "id": "194147bf",
   "metadata": {},
   "outputs": [
    {
     "name": "stdout",
     "output_type": "stream",
     "text": [
      "Final file saved as 'james_smith_final.csv' with manual updates applied.\n"
     ]
    }
   ],
   "source": [
    "import pandas as pd  \n",
    "\n",
    "df = pd.read_csv(\"james_smith_sentiment.csv\")  \n",
    "manual_df = pd.read_excel(\"/Users/lakshmiande/Desktop/sentiment analysis/manual_labels_corrected.xlsx\")\n",
    "\n",
    "df.set_index(\"id\", inplace=True)  \n",
    "manual_df.set_index(\"id\", inplace=True)\n",
    "\n",
    "df.update(manual_df[[\"sentiment\"]])\n",
    "\n",
    "df.reset_index(inplace=True)\n",
    "\n",
    "df.to_csv(\"james_smith_final.csv\", index=False)\n",
    "\n",
    "print(\"Final file saved as 'james_smith_final.csv' with manual updates applied.\")\n"
   ]
  },
  {
   "cell_type": "code",
   "execution_count": 16,
   "id": "eb63535c",
   "metadata": {},
   "outputs": [
    {
     "data": {
      "image/png": "[encoded data removed]",
      "text/plain": [
       "<Figure size 432x288 with 1 Axes>"
      ]
     },
     "metadata": {
      "needs_background": "light"
     },
     "output_type": "display_data"
    }
   ],
   "source": [
    "df[\"sentiment\"].value_counts().plot(kind=\"bar\")\n",
    "plt.title(\"Sentiment Distribution\")\n",
    "plt.show()\n"
   ]
  },
  {
   "cell_type": "code",
   "execution_count": null,
   "id": "d7b48b17",
   "metadata": {},
   "outputs": [],
   "source": []
  }
 ],
 "metadata": {
  "kernelspec": {
   "display_name": "Python 3 (ipykernel)",
   "language": "python",
   "name": "python3"
  },
  "language_info": {
   "codemirror_mode": {
    "name": "ipython",
    "version": 3
   },
   "file_extension": ".py",
   "mimetype": "text/x-python",
   "name": "python",
   "nbconvert_exporter": "python",
   "pygments_lexer": "ipython3",
   "version": "3.9.12"
  }
 },
 "nbformat": 4,
 "nbformat_minor": 5
}
